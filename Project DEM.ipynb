{
 "cells": [
  {
   "cell_type": "code",
   "execution_count": 1,
   "id": "c47bc2f7",
   "metadata": {},
   "outputs": [],
   "source": [
    "import numpy as np\n",
    "import pandas as pd\n",
    "import matplotlib.pyplot as plt"
   ]
  },
  {
   "cell_type": "code",
   "execution_count": 4,
   "id": "96eb5387",
   "metadata": {},
   "outputs": [],
   "source": [
    "df = pd.read_csv(r\"C:\\Users\\prana\\Downloads\\archive (5)\\wbb_rosters_2022_23.csv\")"
   ]
  },
  {
   "cell_type": "code",
   "execution_count": 5,
   "id": "ad0b94ec",
   "metadata": {},
   "outputs": [
    {
     "data": {
      "text/html": [
       "<div>\n",
       "<style scoped>\n",
       "    .dataframe tbody tr th:only-of-type {\n",
       "        vertical-align: middle;\n",
       "    }\n",
       "\n",
       "    .dataframe tbody tr th {\n",
       "        vertical-align: top;\n",
       "    }\n",
       "\n",
       "    .dataframe thead th {\n",
       "        text-align: right;\n",
       "    }\n",
       "</style>\n",
       "<table border=\"1\" class=\"dataframe\">\n",
       "  <thead>\n",
       "    <tr style=\"text-align: right;\">\n",
       "      <th></th>\n",
       "      <th>ncaa_id</th>\n",
       "      <th>team</th>\n",
       "      <th>player_id</th>\n",
       "      <th>name</th>\n",
       "      <th>year</th>\n",
       "      <th>hometown</th>\n",
       "      <th>homestate</th>\n",
       "      <th>high_school</th>\n",
       "      <th>previous_school_clean</th>\n",
       "      <th>height_clean</th>\n",
       "      <th>...</th>\n",
       "      <th>total_inches</th>\n",
       "      <th>primary_position</th>\n",
       "      <th>secondary_position</th>\n",
       "      <th>position_clean</th>\n",
       "      <th>year_clean</th>\n",
       "      <th>redshirt</th>\n",
       "      <th>hs_clean</th>\n",
       "      <th>hometown_clean</th>\n",
       "      <th>state_clean</th>\n",
       "      <th>country_clean</th>\n",
       "    </tr>\n",
       "  </thead>\n",
       "  <tbody>\n",
       "    <tr>\n",
       "      <th>0</th>\n",
       "      <td>721</td>\n",
       "      <td>Air Force</td>\n",
       "      <td>11807.0</td>\n",
       "      <td>Mackenzie Le</td>\n",
       "      <td>Freshman</td>\n",
       "      <td>Elk Grove</td>\n",
       "      <td>California</td>\n",
       "      <td>St. Francis</td>\n",
       "      <td>NaN</td>\n",
       "      <td>5'3\"</td>\n",
       "      <td>...</td>\n",
       "      <td>63.0</td>\n",
       "      <td>GUARD</td>\n",
       "      <td>NaN</td>\n",
       "      <td>GUARD</td>\n",
       "      <td>Freshman</td>\n",
       "      <td>0</td>\n",
       "      <td>St. Francis</td>\n",
       "      <td>ELK GROVE, CA</td>\n",
       "      <td>CA</td>\n",
       "      <td>USA</td>\n",
       "    </tr>\n",
       "    <tr>\n",
       "      <th>1</th>\n",
       "      <td>721</td>\n",
       "      <td>Air Force</td>\n",
       "      <td>11805.0</td>\n",
       "      <td>Milahnie Perry</td>\n",
       "      <td>Freshman</td>\n",
       "      <td>Tampa</td>\n",
       "      <td>Florida</td>\n",
       "      <td>Seffner Christian Academy</td>\n",
       "      <td>NaN</td>\n",
       "      <td>5'7\"</td>\n",
       "      <td>...</td>\n",
       "      <td>67.0</td>\n",
       "      <td>GUARD</td>\n",
       "      <td>NaN</td>\n",
       "      <td>GUARD</td>\n",
       "      <td>Freshman</td>\n",
       "      <td>0</td>\n",
       "      <td>Seffner Christian Academy</td>\n",
       "      <td>TAMPA, FL</td>\n",
       "      <td>FL</td>\n",
       "      <td>USA</td>\n",
       "    </tr>\n",
       "    <tr>\n",
       "      <th>2</th>\n",
       "      <td>721</td>\n",
       "      <td>Air Force</td>\n",
       "      <td>11801.0</td>\n",
       "      <td>Madison Smith</td>\n",
       "      <td>Sophomore</td>\n",
       "      <td>Connell</td>\n",
       "      <td>Washington</td>\n",
       "      <td>Connell</td>\n",
       "      <td>NaN</td>\n",
       "      <td>5'8\"</td>\n",
       "      <td>...</td>\n",
       "      <td>68.0</td>\n",
       "      <td>GUARD</td>\n",
       "      <td>NaN</td>\n",
       "      <td>GUARD</td>\n",
       "      <td>Sophomore</td>\n",
       "      <td>0</td>\n",
       "      <td>Connell</td>\n",
       "      <td>CONNELL, WA</td>\n",
       "      <td>WA</td>\n",
       "      <td>USA</td>\n",
       "    </tr>\n",
       "    <tr>\n",
       "      <th>3</th>\n",
       "      <td>721</td>\n",
       "      <td>Air Force</td>\n",
       "      <td>11795.0</td>\n",
       "      <td>Taylor Britt</td>\n",
       "      <td>Junior</td>\n",
       "      <td>Columbia</td>\n",
       "      <td>South Carolina</td>\n",
       "      <td>Spring Valley</td>\n",
       "      <td>USAFA Prep</td>\n",
       "      <td>5'7\"</td>\n",
       "      <td>...</td>\n",
       "      <td>67.0</td>\n",
       "      <td>GUARD</td>\n",
       "      <td>NaN</td>\n",
       "      <td>GUARD</td>\n",
       "      <td>Junior</td>\n",
       "      <td>0</td>\n",
       "      <td>Spring Valley</td>\n",
       "      <td>COLUMBIA, SC</td>\n",
       "      <td>SC</td>\n",
       "      <td>USA</td>\n",
       "    </tr>\n",
       "    <tr>\n",
       "      <th>4</th>\n",
       "      <td>721</td>\n",
       "      <td>Air Force</td>\n",
       "      <td>11796.0</td>\n",
       "      <td>Kamri Heath</td>\n",
       "      <td>Senior</td>\n",
       "      <td>Edmond</td>\n",
       "      <td>Oklahoma</td>\n",
       "      <td>Edmond North</td>\n",
       "      <td>NaN</td>\n",
       "      <td>5'7\"</td>\n",
       "      <td>...</td>\n",
       "      <td>67.0</td>\n",
       "      <td>GUARD</td>\n",
       "      <td>NaN</td>\n",
       "      <td>GUARD</td>\n",
       "      <td>Senior</td>\n",
       "      <td>0</td>\n",
       "      <td>Edmond North</td>\n",
       "      <td>EDMOND, OK</td>\n",
       "      <td>OK</td>\n",
       "      <td>USA</td>\n",
       "    </tr>\n",
       "  </tbody>\n",
       "</table>\n",
       "<p>5 rows × 29 columns</p>\n",
       "</div>"
      ],
      "text/plain": [
       "   ncaa_id       team  player_id            name       year   hometown  \\\n",
       "0      721  Air Force    11807.0    Mackenzie Le   Freshman  Elk Grove   \n",
       "1      721  Air Force    11805.0  Milahnie Perry   Freshman      Tampa   \n",
       "2      721  Air Force    11801.0   Madison Smith  Sophomore    Connell   \n",
       "3      721  Air Force    11795.0    Taylor Britt     Junior   Columbia   \n",
       "4      721  Air Force    11796.0     Kamri Heath     Senior     Edmond   \n",
       "\n",
       "        homestate                high_school previous_school_clean  \\\n",
       "0      California                St. Francis                   NaN   \n",
       "1         Florida  Seffner Christian Academy                   NaN   \n",
       "2      Washington                    Connell                   NaN   \n",
       "3  South Carolina              Spring Valley            USAFA Prep   \n",
       "4        Oklahoma               Edmond North                   NaN   \n",
       "\n",
       "  height_clean  ... total_inches primary_position secondary_position  \\\n",
       "0         5'3\"  ...         63.0            GUARD                NaN   \n",
       "1         5'7\"  ...         67.0            GUARD                NaN   \n",
       "2         5'8\"  ...         68.0            GUARD                NaN   \n",
       "3         5'7\"  ...         67.0            GUARD                NaN   \n",
       "4         5'7\"  ...         67.0            GUARD                NaN   \n",
       "\n",
       "  position_clean year_clean redshirt                   hs_clean  \\\n",
       "0          GUARD   Freshman        0                St. Francis   \n",
       "1          GUARD   Freshman        0  Seffner Christian Academy   \n",
       "2          GUARD  Sophomore        0                    Connell   \n",
       "3          GUARD     Junior        0              Spring Valley   \n",
       "4          GUARD     Senior        0               Edmond North   \n",
       "\n",
       "   hometown_clean  state_clean  country_clean  \n",
       "0   ELK GROVE, CA           CA            USA  \n",
       "1       TAMPA, FL           FL            USA  \n",
       "2     CONNELL, WA           WA            USA  \n",
       "3    COLUMBIA, SC           SC            USA  \n",
       "4      EDMOND, OK           OK            USA  \n",
       "\n",
       "[5 rows x 29 columns]"
      ]
     },
     "execution_count": 5,
     "metadata": {},
     "output_type": "execute_result"
    }
   ],
   "source": [
    "df.head()"
   ]
  },
  {
   "cell_type": "code",
   "execution_count": 6,
   "id": "29c5404e",
   "metadata": {},
   "outputs": [
    {
     "data": {
      "text/plain": [
       "7509"
      ]
     },
     "execution_count": 6,
     "metadata": {},
     "output_type": "execute_result"
    }
   ],
   "source": [
    "df['player_id'].nunique()"
   ]
  },
  {
   "cell_type": "code",
   "execution_count": 7,
   "id": "adee45bb",
   "metadata": {},
   "outputs": [
    {
     "data": {
      "text/plain": [
       "3108"
      ]
     },
     "execution_count": 7,
     "metadata": {},
     "output_type": "execute_result"
    }
   ],
   "source": [
    "df['player_id'].isnull().sum()"
   ]
  },
  {
   "cell_type": "code",
   "execution_count": 8,
   "id": "106267a2",
   "metadata": {},
   "outputs": [
    {
     "data": {
      "text/plain": [
       "3108"
      ]
     },
     "execution_count": 8,
     "metadata": {},
     "output_type": "execute_result"
    }
   ],
   "source": [
    "df['player_id'].isna().sum()"
   ]
  },
  {
   "cell_type": "code",
   "execution_count": 9,
   "id": "e873ed95",
   "metadata": {},
   "outputs": [
    {
     "name": "stdout",
     "output_type": "stream",
     "text": [
      "<class 'pandas.core.frame.DataFrame'>\n",
      "RangeIndex: 13806 entries, 0 to 13805\n",
      "Data columns (total 29 columns):\n",
      " #   Column                 Non-Null Count  Dtype  \n",
      "---  ------                 --------------  -----  \n",
      " 0   ncaa_id                13806 non-null  int64  \n",
      " 1   team                   13806 non-null  object \n",
      " 2   player_id              10698 non-null  float64\n",
      " 3   name                   13806 non-null  object \n",
      " 4   year                   13806 non-null  object \n",
      " 5   hometown               13806 non-null  object \n",
      " 6   homestate              13783 non-null  object \n",
      " 7   high_school            13612 non-null  object \n",
      " 8   previous_school_clean  2011 non-null   object \n",
      " 9   height_clean           13767 non-null  object \n",
      " 10  position               13781 non-null  object \n",
      " 11  jersey                 13747 non-null  object \n",
      " 12  url                    13806 non-null  object \n",
      " 13  season                 13797 non-null  object \n",
      " 14  team_state             13794 non-null  object \n",
      " 15  conference             13806 non-null  object \n",
      " 16  division               13806 non-null  object \n",
      " 17  height_ft              13767 non-null  float64\n",
      " 18  height_in              13767 non-null  float64\n",
      " 19  total_inches           13767 non-null  float64\n",
      " 20  primary_position       13774 non-null  object \n",
      " 21  secondary_position     1019 non-null   object \n",
      " 22  position_clean         13774 non-null  object \n",
      " 23  year_clean             13805 non-null  object \n",
      " 24  redshirt               13806 non-null  int64  \n",
      " 25  hs_clean               13627 non-null  object \n",
      " 26  hometown_clean         13806 non-null  object \n",
      " 27  state_clean            12733 non-null  object \n",
      " 28  country_clean          13806 non-null  object \n",
      "dtypes: float64(4), int64(2), object(23)\n",
      "memory usage: 3.1+ MB\n"
     ]
    }
   ],
   "source": [
    "df.info()"
   ]
  },
  {
   "cell_type": "code",
   "execution_count": 10,
   "id": "c4fa14ce",
   "metadata": {},
   "outputs": [
    {
     "data": {
      "text/plain": [
       "938"
      ]
     },
     "execution_count": 10,
     "metadata": {},
     "output_type": "execute_result"
    }
   ],
   "source": [
    "df['team'].nunique()"
   ]
  },
  {
   "cell_type": "code",
   "execution_count": 11,
   "id": "aca66331",
   "metadata": {},
   "outputs": [
    {
     "data": {
      "text/plain": [
       "82"
      ]
     },
     "execution_count": 11,
     "metadata": {},
     "output_type": "execute_result"
    }
   ],
   "source": [
    "df['year'].nunique()"
   ]
  },
  {
   "cell_type": "code",
   "execution_count": 12,
   "id": "13480b3e",
   "metadata": {},
   "outputs": [
    {
     "data": {
      "text/plain": [
       "3"
      ]
     },
     "execution_count": 12,
     "metadata": {},
     "output_type": "execute_result"
    }
   ],
   "source": [
    "df['height_ft'].nunique()"
   ]
  },
  {
   "cell_type": "code",
   "execution_count": 13,
   "id": "1646b8ab",
   "metadata": {},
   "outputs": [
    {
     "data": {
      "text/plain": [
       "12"
      ]
     },
     "execution_count": 13,
     "metadata": {},
     "output_type": "execute_result"
    }
   ],
   "source": [
    "df['height_in'].nunique()"
   ]
  },
  {
   "cell_type": "code",
   "execution_count": 17,
   "id": "c8ea9a29",
   "metadata": {},
   "outputs": [],
   "source": [
    "df1 = pd.read_csv(r\"C:\\Users\\prana\\Downloads\\archive (5)\\wbb_rosters_2022_23.csv\")"
   ]
  },
  {
   "cell_type": "code",
   "execution_count": 18,
   "id": "b8a04c70",
   "metadata": {},
   "outputs": [],
   "source": [
    "df['year'] = df['year'].replace('Fr.', 'Freshman')"
   ]
  },
  {
   "cell_type": "code",
   "execution_count": 19,
   "id": "aba50eed",
   "metadata": {},
   "outputs": [
    {
     "data": {
      "text/plain": [
       "'Freshman'"
      ]
     },
     "execution_count": 19,
     "metadata": {},
     "output_type": "execute_result"
    }
   ],
   "source": [
    "df['year'].iloc[115]"
   ]
  },
  {
   "cell_type": "code",
   "execution_count": 20,
   "id": "2f4cec90",
   "metadata": {},
   "outputs": [],
   "source": [
    "df['year'] = df['year'].replace('So.', 'Sophomore')"
   ]
  },
  {
   "cell_type": "code",
   "execution_count": 21,
   "id": "68e19b94",
   "metadata": {},
   "outputs": [
    {
     "data": {
      "text/plain": [
       "'Sophomore'"
      ]
     },
     "execution_count": 21,
     "metadata": {},
     "output_type": "execute_result"
    }
   ],
   "source": [
    "df['year'].iloc[120]"
   ]
  },
  {
   "cell_type": "code",
   "execution_count": 22,
   "id": "ac75e305",
   "metadata": {},
   "outputs": [],
   "source": [
    "df['year'] = df['year'].replace('Sr.', 'Senior')"
   ]
  },
  {
   "cell_type": "code",
   "execution_count": 23,
   "id": "ade6da75",
   "metadata": {},
   "outputs": [],
   "source": [
    "df['year'] = df['year'].replace('Jr.', 'Junior')"
   ]
  },
  {
   "cell_type": "code",
   "execution_count": 24,
   "id": "777f43f6",
   "metadata": {},
   "outputs": [],
   "source": [
    "df['year'] = df['year'].replace('R-Jr.', 'Redshirt Junior')"
   ]
  },
  {
   "cell_type": "code",
   "execution_count": 25,
   "id": "9c4c014c",
   "metadata": {},
   "outputs": [],
   "source": [
    "df['year'] = df['year'].replace('R-Sr.', 'Redshirt Senior')"
   ]
  },
  {
   "cell_type": "code",
   "execution_count": 26,
   "id": "b2f1a9a3",
   "metadata": {},
   "outputs": [
    {
     "data": {
      "text/plain": [
       "'Redshirt Senior'"
      ]
     },
     "execution_count": 26,
     "metadata": {},
     "output_type": "execute_result"
    }
   ],
   "source": [
    "df['year'].iloc[114]"
   ]
  },
  {
   "cell_type": "code",
   "execution_count": 27,
   "id": "5805f604",
   "metadata": {},
   "outputs": [],
   "source": [
    "df['year'] = df['year'].replace('First Year', 'Freshman')"
   ]
  },
  {
   "cell_type": "code",
   "execution_count": 28,
   "id": "3040e075",
   "metadata": {},
   "outputs": [],
   "source": [
    "df['year'] = df['year'].replace('FY', 'Freshman')"
   ]
  },
  {
   "cell_type": "code",
   "execution_count": 29,
   "id": "b5fb010f",
   "metadata": {},
   "outputs": [],
   "source": [
    "df['year'] = df['year'].replace('Gr.', 'Graduate Student')"
   ]
  },
  {
   "cell_type": "code",
   "execution_count": 30,
   "id": "02ea0ef5",
   "metadata": {},
   "outputs": [
    {
     "data": {
      "text/plain": [
       "73"
      ]
     },
     "execution_count": 30,
     "metadata": {},
     "output_type": "execute_result"
    }
   ],
   "source": [
    "df['year'].nunique()"
   ]
  },
  {
   "cell_type": "code",
   "execution_count": 31,
   "id": "ede873b0",
   "metadata": {},
   "outputs": [],
   "source": [
    "df['year'] = df['year'].replace('R-Fr.', 'Redshirt Freshman')"
   ]
  },
  {
   "cell_type": "code",
   "execution_count": 32,
   "id": "28564387",
   "metadata": {},
   "outputs": [
    {
     "data": {
      "text/plain": [
       "array(['Freshman', 'Sophomore', 'Junior', 'Senior', 'Graduate Student',\n",
       "       'Fifth Year', 'Redshirt Senior', 'Redshirt Freshman',\n",
       "       'Redshirt Sophomore', 'Redshirt Junior', 'R-So.', 'RS So.',\n",
       "       'RS Sr.', 'SO', 'JR', 'R-SR', 'FR', 'SR', 'Redshirt-Junior',\n",
       "       'Graduate', 'Redshirt-Freshman', '5th Yr.', 'First-Year',\n",
       "       'R-Junior', 'Senior*', 'Redshirt Fifth Year',\n",
       "       'Redshirt First Year', 'GS', 'Sixth Year', 'RS-Freshman', 'Fr',\n",
       "       'Jr', 'Sr', 'So', 'Sophmore', 'Fy.', 'Fr.-RS', 'So.-1L', 'Sr.-Tr.',\n",
       "       'Sr.-3L', 'Jr.-Tr.', 'Fr.-HS', 'Sr.-2L', 'Jr.-1L', 'Sr.-1L', 'rFR',\n",
       "       'First-year', 'RFr.', 'First-Year Student', 'GR', 'Fr. - RS', 'Gr',\n",
       "       '5th Year', 'Grad.', '2023', '2024', '2025', '2026', 'Fy',\n",
       "       'R-Senior', 'R-Freshman', 'R-Sophomore', '5th', 'RS-Sr.',\n",
       "       '5th-year Senior', '6th', 'Gs', 'Rs.', 'r-Jr', 'Grad Student',\n",
       "       'Gs.', 'GS.'], dtype=object)"
      ]
     },
     "execution_count": 32,
     "metadata": {},
     "output_type": "execute_result"
    }
   ],
   "source": [
    "df['year'].unique()"
   ]
  },
  {
   "cell_type": "code",
   "execution_count": 33,
   "id": "b2cf9118",
   "metadata": {},
   "outputs": [],
   "source": [
    "replace_dict = {'FR': 'Freshman', 'Fr': 'Freshman', 'R-Junior': 'Redshirt Junior'}\n",
    "\n",
    "df['year'] = df['year'].replace(replace_dict)"
   ]
  },
  {
   "cell_type": "code",
   "execution_count": 34,
   "id": "0c575081",
   "metadata": {},
   "outputs": [
    {
     "data": {
      "text/plain": [
       "array(['G', 'G/F', 'C/F', 'F', 'Guard', 'Forward', 'Center',\n",
       "       'Guard/Forward', 'Forward/Center', 'F/C', 'C', 'Point', 'PG',\n",
       "       'Center/Forward', 'F/G', 'Foward', 'Wing', nan, 'Forward/Guard',\n",
       "       'SG', 'SF', 'Post', 'Center/ Forward', 'Shooting', 'GUARD', 'PF',\n",
       "       'Forward/Wing', 'FORWARD', 'CENTER', 'Guard/Post', 'Small', 'W',\n",
       "       'Guard/Wing', 'Point Guard', 'Power', 'Guards', 'guard', 'Guard/',\n",
       "       'P', 'F-C', 'Wing/Center', 'F/W', 'PG/SG/SF', 'C/PF', 'FWD',\n",
       "       'Wing/Forward', 'Guard/Foward', 'Guard-Forward', 'Gu', 'C-F',\n",
       "       'Guard/Forawrd', 'Point-Guard', 'Wing/Point', 'Post/Forward',\n",
       "       'Point/Shooting', 'Shooting/Point', 'Gaurd/Forward', 'G / F',\n",
       "       'Power Forward', 'G | F', 'F/PF'], dtype=object)"
      ]
     },
     "execution_count": 34,
     "metadata": {},
     "output_type": "execute_result"
    }
   ],
   "source": [
    "df['position'].unique()"
   ]
  },
  {
   "cell_type": "code",
   "execution_count": 35,
   "id": "3a250bed",
   "metadata": {},
   "outputs": [],
   "source": [
    "replace_dict = {'G': 'Guard', 'G/F': 'Guard/Forward','G / F': 'Guard/Forward', 'C/F': 'Center/ Forward', }\n",
    "\n",
    "df['position'] = df['position'].replace(replace_dict)"
   ]
  },
  {
   "cell_type": "code",
   "execution_count": 36,
   "id": "ea5acb1f",
   "metadata": {},
   "outputs": [
    {
     "data": {
      "text/plain": [
       "56"
      ]
     },
     "execution_count": 36,
     "metadata": {},
     "output_type": "execute_result"
    }
   ],
   "source": [
    "df['position'].nunique()"
   ]
  },
  {
   "cell_type": "code",
   "execution_count": 38,
   "id": "e129fafd",
   "metadata": {},
   "outputs": [
    {
     "data": {
      "text/plain": [
       "ncaa_id                      0\n",
       "team                         0\n",
       "player_id                 3108\n",
       "name                         0\n",
       "year                         0\n",
       "hometown                     0\n",
       "homestate                   23\n",
       "high_school                194\n",
       "previous_school_clean    11795\n",
       "height_clean                39\n",
       "position                    25\n",
       "jersey                      59\n",
       "url                          0\n",
       "season                       9\n",
       "team_state                  12\n",
       "conference                   0\n",
       "division                     0\n",
       "height_ft                   39\n",
       "height_in                   39\n",
       "total_inches                39\n",
       "primary_position            32\n",
       "secondary_position       12787\n",
       "position_clean              32\n",
       "year_clean                   1\n",
       "redshirt                     0\n",
       "hs_clean                   179\n",
       "hometown_clean               0\n",
       "state_clean               1073\n",
       "country_clean                0\n",
       "dtype: int64"
      ]
     },
     "execution_count": 38,
     "metadata": {},
     "output_type": "execute_result"
    }
   ],
   "source": [
    "df.isnull().sum()"
   ]
  },
  {
   "cell_type": "code",
   "execution_count": 42,
   "id": "7cfbef72",
   "metadata": {},
   "outputs": [
    {
     "data": {
      "text/plain": [
       "938"
      ]
     },
     "execution_count": 42,
     "metadata": {},
     "output_type": "execute_result"
    }
   ],
   "source": [
    "df['ncaa_id'].nunique()"
   ]
  },
  {
   "cell_type": "code",
   "execution_count": 43,
   "id": "35108ae4",
   "metadata": {},
   "outputs": [
    {
     "data": {
      "text/plain": [
       "ncaa_id                      0\n",
       "team                         0\n",
       "player_id                 3108\n",
       "name                         0\n",
       "year                         0\n",
       "hometown                     0\n",
       "homestate                   23\n",
       "high_school                194\n",
       "previous_school_clean    11795\n",
       "height_clean                39\n",
       "position                    25\n",
       "jersey                      59\n",
       "url                          0\n",
       "season                       9\n",
       "team_state                  12\n",
       "conference                   0\n",
       "division                     0\n",
       "height_ft                   39\n",
       "height_in                   39\n",
       "total_inches                39\n",
       "primary_position            32\n",
       "secondary_position       12787\n",
       "position_clean              32\n",
       "year_clean                   1\n",
       "redshirt                     0\n",
       "hs_clean                   179\n",
       "hometown_clean               0\n",
       "state_clean               1073\n",
       "country_clean                0\n",
       "dtype: int64"
      ]
     },
     "execution_count": 43,
     "metadata": {},
     "output_type": "execute_result"
    }
   ],
   "source": [
    "df.isnull().sum()"
   ]
  },
  {
   "cell_type": "code",
   "execution_count": null,
   "id": "9b2f5890",
   "metadata": {},
   "outputs": [],
   "source": []
  }
 ],
 "metadata": {
  "kernelspec": {
   "display_name": "Python 3 (ipykernel)",
   "language": "python",
   "name": "python3"
  },
  "language_info": {
   "codemirror_mode": {
    "name": "ipython",
    "version": 3
   },
   "file_extension": ".py",
   "mimetype": "text/x-python",
   "name": "python",
   "nbconvert_exporter": "python",
   "pygments_lexer": "ipython3",
   "version": "3.9.13"
  }
 },
 "nbformat": 4,
 "nbformat_minor": 5
}
